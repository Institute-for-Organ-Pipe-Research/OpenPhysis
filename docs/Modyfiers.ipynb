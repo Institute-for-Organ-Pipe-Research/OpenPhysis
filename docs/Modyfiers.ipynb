{
 "cells": [
  {
   "attachments": {},
   "cell_type": "markdown",
   "metadata": {},
   "source": [
    "# Lista modyfikatorów:\n",
    "\n",
    "- [AddBass](#addbass) - Przenosi najniższą nutę z zakresu `bass_note_limit` do kanału `bass_channel`\n"
   ]
  },
  {
   "attachments": {},
   "cell_type": "markdown",
   "metadata": {},
   "source": [
    "## AddBass\n",
    "\n",
    "`AddBass` jest modyfikatorem MIDI, który przenosi najniższą nutę w zadanym zakresie na określony kanał MIDI. Klasa dziedziczy po klasie `MidiModifier`, która jest ogólnym interfejsem dla wszystkich modyfikatorów MIDI.\n",
    "\n",
    "### Parametry:\n",
    "- **bass_channel** (`int`): Kanał MIDI, na który zostanie przeniesiona najniższa nuta w zadanym zakresie. Jeśli nie zostanie podany, zostanie ustawiony na `None`.\n",
    "- **bass_note_limit** (`dict`): Słownik zawierający dwa klucze `lower_limit` i `upper_limit`, które określają zakres nut do rozważenia (w domyślnych ustawieniach: `lower_limit=36`, `upper_limit=67`).\n",
    "\n",
    "### Atrybuty:\n",
    "- **bass_channel** (`int`): Kanał MIDI, na który przenoszona jest najniższa nuta.\n",
    "- **bass_note_limit** (`dict`): Słownik z granicami zakresu nut.\n",
    "- **bass_lower_limit** (`int`): Dolna granica zakresu.\n",
    "- **bass_upper_limit** (`int`): Górna granica zakresu.\n",
    "\n",
    "Definicja klasy\n",
    "\n",
    "```python\n",
    "class AddBass(MidiModifier):\n",
    "    \"\"\"Modyfikator przenoszący najniższą nutę do innego kanału midi\"\"\"\n",
    "    def __init__(self, bass_channel: int = None, bass_note_limit: dict = None):\n",
    "        super().__init__()\n",
    "        self.bass_channel = bass_channel\n",
    "\n",
    "        # Ustawienie domyślnego limitu, jeśli nie podano\n",
    "        if self.bass_note_limit is None:\n",
    "            bass_note_limit = {'lower_limit': 36, 'upper_limit': 67}\n",
    "        self.bass_note_limit = bass_note_limit\n",
    "\n",
    "        # Przechowywanie górnej i dolnej granicy zakresu\n",
    "        self.bass_lower_limit = ['lower_limit']\n",
    "        self.bass_upper_limit = ['upper_limit']\n",
    "```\n",
    "\n",
    "### Przykład urzycia\n",
    "\n",
    "```python\n",
    "#utworzenie modyfikatora\n",
    "add_bass__modyfier = AddBass(bass_channel=0, bass_note_limit={'lower_limit': 36, 'upper_limit': 67})\n",
    "\n",
    "# Nasłuchiwanie komunikatów MIDI\n",
    "UTWORZYĆ\n",
    "\n",
    "# Włączenie modyfikatora\n",
    "add_bass__modyfier.enable()\n",
    "```"
   ]
  }
 ],
 "metadata": {
  "kernelspec": {
   "display_name": ".venv",
   "language": "python",
   "name": "python3"
  },
  "language_info": {
   "name": "python",
   "version": "3.11.0 (main, Oct 24 2022, 18:26:48) [MSC v.1933 64 bit (AMD64)]"
  },
  "orig_nbformat": 4,
  "vscode": {
   "interpreter": {
    "hash": "911eaa99de2858292766682a3e6d557356a98233bf95b884f7d7961efcd35790"
   }
  }
 },
 "nbformat": 4,
 "nbformat_minor": 2
}
