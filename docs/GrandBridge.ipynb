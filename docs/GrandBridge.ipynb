{
 "cells": [
  {
   "attachments": {},
   "cell_type": "markdown",
   "metadata": {},
   "source": [
    "Struktura aplikacji GrandBridge\n",
    "\n",
    "```\n",
    "GrandBridge/\n",
    "│\n",
    "├── grandbridge/                # Główna aplikacja (kod źródłowy)\n",
    "│   ├── __init__.py             # Inicjalizator modułu\n",
    "│   ├── midi_router.py          # Routing komunikatów MIDI\n",
    "│   ├── orgue_controller.py     # Sterowanie GrandOrgue\n",
    "│   ├── bridge.py               # Logika mostu łączącego urządzenia z GrandOrgue\n",
    "│   ├── decorators.py           # Dekoratory (logowanie, kontrola dostępu)\n",
    "│   ├── utils.py                # Funkcje pomocnicze\n",
    "│   ├── settings.py             # Zarządzanie ustawieniami aplikacji\n",
    "│   └── gui/                    # GUI aplikacji\n",
    "│       ├── __init__.py         # Inicjalizator dla GUI\n",
    "│       ├── main_window.py      # Główne okno aplikacji\n",
    "│       ├── settings_dialog.py  # Okno dialogowe dla ustawień\n",
    "│       └── midi_controls.py    # Widżety i kontrolki związane z MIDI\n",
    "│\n",
    "├── tests/                      # Testy jednostkowe\n",
    "│   ├── __init__.py\n",
    "│   ├── test_midi_router.py     # Testy dla routingu MIDI\n",
    "│   ├── test_orgue_controller.py # Testy dla kontrolera GrandOrgue\n",
    "│   ├── test_bridge.py          # Testy mostu łączącego urządzenia\n",
    "│   └── test_settings.py        # Testy przechowywania ustawień\n",
    "│\n",
    "├── docs/                       # Dokumentacja\n",
    "│   ├── index.md                # Podstawowa dokumentacja\n",
    "│   └── installation.md         # Instrukcja instalacji i konfiguracji\n",
    "│\n",
    "├── requirements.txt            # Lista zależności (Qt, mido, pytest)\n",
    "├── README.md                   # Dokumentacja wprowadzająca\n",
    "└── setup.py                    # Instalacja aplikacji\n",
    "\n",
    "```"
   ]
  },
  {
   "attachments": {},
   "cell_type": "markdown",
   "metadata": {},
   "source": [
    "Spis Treści:\n",
    "\n",
    "- [MidiRouter](MidiRouter.ipynb)\n",
    "\n",
    "Modyfikatory:\n",
    "- [AddBass](./modyfiers/AddBass.ipynb) - Przenosi najniższą nutę z zakresu `bass_note_limit`: dolny zakres - `{'lower_limit': 36}`, górny zakres:  `{'upper_limit': 67}`. Domyślnie przyjmuje `{'lower_limit': 36, 'upper_limit': 67}` (C wielkie do g razkreślne). \n"
   ]
  }
 ],
 "metadata": {
  "kernelspec": {
   "display_name": ".venv",
   "language": "python",
   "name": "python3"
  },
  "language_info": {
   "codemirror_mode": {
    "name": "ipython",
    "version": 3
   },
   "file_extension": ".py",
   "mimetype": "text/x-python",
   "name": "python",
   "nbconvert_exporter": "python",
   "pygments_lexer": "ipython3",
   "version": "3.11.0"
  },
  "orig_nbformat": 4,
  "vscode": {
   "interpreter": {
    "hash": "911eaa99de2858292766682a3e6d557356a98233bf95b884f7d7961efcd35790"
   }
  }
 },
 "nbformat": 4,
 "nbformat_minor": 2
}
