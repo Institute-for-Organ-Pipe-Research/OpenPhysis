{
 "cells": [
  {
   "attachments": {},
   "cell_type": "markdown",
   "metadata": {},
   "source": [
    "# MidiDeviceConfig\n",
    "\n",
    "`MidiDeviceConfig` to klasa odpowiedzialna za konfigurację urządzeń MIDI. Umożliwia aktualizację dostępnych urządzeń wejściowych i wyjściowych, wyświetlanie listy urządzeń oraz konfigurację połączeń MIDI.\n",
    "\n",
    "## Parametry:\n",
    "\n",
    "- `input_name (str, opcjonalnie)`: Nazwa urządzenia wejściowego MIDI. Domyślnie None, co oznacza, że nie jest określone.\n",
    "- `output_name (str, opcjonalnie)`: Nazwa urządzenia wyjściowego MIDI. Domyślnie None, co oznacza, że nie jest określone.\n",
    "\n",
    "## Atrybuty:\n",
    "\n",
    "`MIDI_IN_devices (dict)`: Słownik zawierający urządzenia wejściowe MIDI, gdzie kluczem jest nazwa urządzenia, a wartością słownik z informacją o stanie połączenia (connected).\n",
    "`MIDI_OUT_devices (dict)`: Słownik zawierający urządzenia wyjściowe MIDI, gdzie kluczem jest nazwa urządzenia, a wartością słownik z informacją o stanie połączenia (connected).\n",
    "\n",
    "## Metody:\n",
    "\n",
    "- `__init__(self, input_name=None, output_name=None)`: Inicjalizuje obiekt klasy MidiDeviceConfig, tworząc puste słowniki dla urządzeń wejściowych i wyjściowych oraz aktualizuje dostępne urządzenia za pomocą metody update_devices.\n",
    "- `update_devices(self)`: Aktualizuje listę urządzeń MIDI we wszystkich dostępnych portach wejściowych i wyjściowych, korzystając z funkcji `mido.get_input_names()` oraz `mido.get_output_names()`. Urządzenia wejściowe i wyjściowe są dodawane do odpowiednich słowników z początkowym stanem `connected=False`.\n",
    "- `list_devices(self)`: Wyświetla listę dostępnych urządzeń MIDI wejściowych i wyjściowych wraz z informacją o ich stanie połączenia.\n",
    "- `get_devices(self)`: Zwraca słownik z urządzeniami MIDI wejściowymi i wyjściowymi.\n",
    "- `connect_device(self, devices: list)`: Umożliwia połączenie urządzeń MIDI wejściowych i/lub wyjściowych. Parametr `devices` to lista nazw urządzeń do połączenia. Urządzenia są oznaczane jako połączone `('connected': True)`.\n",
    "- `connect_configurator(self)`: Umożliwia konfigurację połączeń urządzeń MIDI na podstawie ich statusu `'connected'`. Jeśli urządzenia wejściowe lub wyjściowe są rozłączone, użytkownik może wybrać urządzenia do połączenia.\n",
    "\n",
    "## Przykład użycia:\n",
    "\n",
    "- Konfiguracaja urządzeń MIDI z interface użytkownika\n",
    "\n",
    "    ```python\n",
    "    # Utworzenie obiektu konfiguracji urządzeń MIDI\n",
    "    midi_config = MidiDeviceConfig()\n",
    "\n",
    "    # Konfiguracja urządzeń MIDI z interfejsem użytkownika\n",
    "    midi_config.connect_configurator()\n",
    "    ```\n",
    "- Zwacanie użądzeń MIDI OUT dla metody [router.start(outport)](MidiRouter.ipynb)\n",
    "\n",
    "    ```python\n",
    "    # Inicjalizacja routera MIDI\n",
    "    router = MidiRouter()\n",
    "\n",
    "    devices = midi_config.get_devices()\n",
    "    outport = {key: value for key, value in devices[\"MIDI_OUT\"].items() if value['connected']}\n",
    "\n",
    "    # Uruchomienie routera\n",
    "    router.start(outport)\n",
    "    ```"
   ]
  }
 ],
 "metadata": {
  "kernelspec": {
   "display_name": ".venv",
   "language": "python",
   "name": "python3"
  },
  "language_info": {
   "name": "python",
   "version": "3.11.0 (main, Oct 24 2022, 18:26:48) [MSC v.1933 64 bit (AMD64)]"
  },
  "orig_nbformat": 4,
  "vscode": {
   "interpreter": {
    "hash": "911eaa99de2858292766682a3e6d557356a98233bf95b884f7d7961efcd35790"
   }
  }
 },
 "nbformat": 4,
 "nbformat_minor": 2
}
